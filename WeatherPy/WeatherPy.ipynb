{
 "cells": [
  {
   "cell_type": "markdown",
   "metadata": {},
   "source": [
    "# WeatherPy\n",
    "\n",
    "---\n",
    "\n",
    "## Starter Code to Generate Random Geographic Coordinates and a List of Cities"
   ]
  },
  {
   "cell_type": "code",
   "execution_count": 23,
   "metadata": {
    "scrolled": true
   },
   "outputs": [],
   "source": [
    "# Dependencies and Setup\n",
    "import matplotlib.pyplot as plt\n",
    "import pandas as pd\n",
    "import numpy as np\n",
    "import requests\n",
    "import time\n",
    "from scipy.stats import linregress\n",
    "from pprint import pprint\n",
    "\n",
    "# Import the OpenWeatherMap API key\n",
    "from api_keys import weather_api_key\n",
    "\n",
    "# Import citipy to determine the cities based on latitude and longitude\n",
    "from citipy import citipy\n",
    "\n",
    "# Output File (CSV)\n",
    "output_data_file = \"../output_data/cities.csv\"\n",
    "\n"
   ]
  },
  {
   "cell_type": "markdown",
   "metadata": {},
   "source": [
    "### Generate the Cities List by Using the `citipy` Library"
   ]
  },
  {
   "cell_type": "code",
   "execution_count": 24,
   "metadata": {},
   "outputs": [
    {
     "name": "stdout",
     "output_type": "stream",
     "text": [
      "Number of cities in the list: 595\n"
     ]
    }
   ],
   "source": [
    "# Empty list for holding the latitude and longitude combinations\n",
    "lat_lngs = []\n",
    "\n",
    "# Empty list for holding the cities names\n",
    "cities = []\n",
    "\n",
    "# Range of latitudes and longitudes\n",
    "lat_range = (-90, 90)\n",
    "lng_range = (-180, 180)\n",
    "\n",
    "# Create a set of random lat and lng combinations\n",
    "lats = np.random.uniform(lat_range[0], lat_range[1], size=1500)\n",
    "lngs = np.random.uniform(lng_range[0], lng_range[1], size=1500)\n",
    "lat_lngs = zip(lats, lngs)\n",
    "\n",
    "# Identify nearest city for each lat, lng combination\n",
    "for lat_lng in lat_lngs:\n",
    "    city = citipy.nearest_city(lat_lng[0], lat_lng[1]).city_name\n",
    "    \n",
    "    # If the city is unique, then add it to a our cities list\n",
    "    if city not in cities:\n",
    "        cities.append(city)\n",
    "\n",
    "# Print the city count to confirm sufficient count\n",
    "print(f\"Number of cities in the list: {len(cities)}\")"
   ]
  },
  {
   "cell_type": "markdown",
   "metadata": {},
   "source": [
    "---"
   ]
  },
  {
   "cell_type": "markdown",
   "metadata": {},
   "source": [
    "## Requirement 1: Create Plots to Showcase the Relationship Between Weather Variables and Latitude\n",
    "\n",
    "### Use the OpenWeatherMap API to retrieve weather data from the cities list generated in the started code"
   ]
  },
  {
   "cell_type": "code",
   "execution_count": 25,
   "metadata": {},
   "outputs": [
    {
     "name": "stdout",
     "output_type": "stream",
     "text": [
      "Beginning Data Retrieval     \n",
      "-----------------------------\n",
      "Processing Record 1 of Set 1 | taolanaro\n",
      "City not found. Skipping...\n",
      "Processing Record 2 of Set 1 | yamaranguila\n",
      "Processing Record 3 of Set 1 | cherskiy\n",
      "Processing Record 4 of Set 1 | port hardy\n",
      "Processing Record 5 of Set 1 | geraldton\n",
      "Processing Record 6 of Set 1 | alofi\n",
      "Processing Record 7 of Set 1 | bathsheba\n",
      "Processing Record 8 of Set 1 | tsihombe\n",
      "City not found. Skipping...\n",
      "Processing Record 9 of Set 1 | kruisfontein\n",
      "Processing Record 10 of Set 1 | amahai\n",
      "Processing Record 11 of Set 1 | punta arenas\n",
      "Processing Record 12 of Set 1 | berezovyy\n",
      "Processing Record 13 of Set 1 | ushuaia\n",
      "Processing Record 14 of Set 1 | mount gambier\n",
      "Processing Record 15 of Set 1 | grand river south east\n",
      "City not found. Skipping...\n",
      "Processing Record 16 of Set 1 | carnarvon\n",
      "Processing Record 17 of Set 1 | hilo\n",
      "Processing Record 18 of Set 1 | hermanus\n",
      "Processing Record 19 of Set 1 | saint anthony\n",
      "Processing Record 20 of Set 1 | rawson\n",
      "Processing Record 21 of Set 1 | gat\n",
      "Processing Record 22 of Set 1 | chimbarongo\n",
      "Processing Record 23 of Set 1 | cockburn harbour\n",
      "City not found. Skipping...\n",
      "Processing Record 24 of Set 1 | lagoa\n",
      "Processing Record 25 of Set 1 | eldorado\n",
      "Processing Record 26 of Set 1 | san cristobal\n",
      "Processing Record 27 of Set 1 | saveh\n",
      "Processing Record 28 of Set 1 | new norfolk\n",
      "Processing Record 29 of Set 1 | cape town\n",
      "Processing Record 30 of Set 1 | mahebourg\n",
      "Processing Record 31 of Set 1 | butaritari\n",
      "Processing Record 32 of Set 1 | birjand\n",
      "Processing Record 33 of Set 1 | east london\n",
      "Processing Record 34 of Set 1 | isla vista\n",
      "Processing Record 35 of Set 1 | kathu\n",
      "Processing Record 36 of Set 1 | anshun\n",
      "Processing Record 37 of Set 1 | cam ranh\n",
      "Processing Record 38 of Set 1 | praia\n",
      "Processing Record 39 of Set 1 | hobart\n",
      "Processing Record 40 of Set 1 | nisia floresta\n",
      "Processing Record 41 of Set 1 | margate\n",
      "Processing Record 42 of Set 1 | atuona\n",
      "Processing Record 43 of Set 1 | kapaa\n",
      "Processing Record 44 of Set 1 | tilichiki\n",
      "Processing Record 45 of Set 1 | dera ghazi khan\n",
      "Processing Record 46 of Set 1 | ribeira grande\n",
      "Processing Record 47 of Set 1 | jasper\n",
      "Processing Record 48 of Set 1 | faya\n",
      "Processing Record 49 of Set 1 | bengkulu\n",
      "Processing Record 50 of Set 1 | thompson\n",
      "Processing Record 0 of Set 2 | jamestown\n",
      "Processing Record 1 of Set 2 | port augusta\n",
      "Processing Record 2 of Set 2 | kodiak\n",
      "Processing Record 3 of Set 2 | albany\n",
      "Processing Record 4 of Set 2 | narsaq\n",
      "Processing Record 5 of Set 2 | hunza\n",
      "City not found. Skipping...\n",
      "Processing Record 6 of Set 2 | attawapiskat\n",
      "City not found. Skipping...\n",
      "Processing Record 7 of Set 2 | nanortalik\n",
      "Processing Record 8 of Set 2 | nizhneyansk\n",
      "City not found. Skipping...\n",
      "Processing Record 9 of Set 2 | utiroa\n",
      "City not found. Skipping...\n",
      "Processing Record 10 of Set 2 | hun\n",
      "Processing Record 11 of Set 2 | hambantota\n",
      "Processing Record 12 of Set 2 | barrow\n",
      "Processing Record 13 of Set 2 | rikitea\n",
      "Processing Record 14 of Set 2 | tasiilaq\n",
      "Processing Record 15 of Set 2 | kavieng\n",
      "Processing Record 16 of Set 2 | yomitan\n",
      "City not found. Skipping...\n",
      "Processing Record 17 of Set 2 | longyearbyen\n",
      "Processing Record 18 of Set 2 | kodinar\n",
      "Processing Record 19 of Set 2 | illoqqortoormiut\n",
      "City not found. Skipping...\n",
      "Processing Record 20 of Set 2 | vaxjo\n",
      "Processing Record 21 of Set 2 | qaanaaq\n",
      "Processing Record 22 of Set 2 | abu dhabi\n",
      "Processing Record 23 of Set 2 | morros\n",
      "Processing Record 24 of Set 2 | saint-philippe\n",
      "Processing Record 25 of Set 2 | udachnyy\n",
      "Processing Record 26 of Set 2 | gawler\n",
      "Processing Record 27 of Set 2 | belaya gora\n",
      "Processing Record 28 of Set 2 | dingle\n",
      "Processing Record 29 of Set 2 | port elizabeth\n",
      "Processing Record 30 of Set 2 | aklavik\n",
      "Processing Record 31 of Set 2 | de aar\n",
      "Processing Record 32 of Set 2 | dikson\n",
      "Processing Record 33 of Set 2 | songjianghe\n",
      "Processing Record 34 of Set 2 | ambilobe\n",
      "Processing Record 35 of Set 2 | tiksi\n",
      "Processing Record 36 of Set 2 | leningradskiy\n",
      "Processing Record 37 of Set 2 | flinders\n",
      "Processing Record 38 of Set 2 | shenjiamen\n",
      "Processing Record 39 of Set 2 | faanui\n",
      "Processing Record 40 of Set 2 | goma\n",
      "Processing Record 41 of Set 2 | mar del plata\n",
      "Processing Record 42 of Set 2 | porto novo\n",
      "Processing Record 43 of Set 2 | cidreira\n",
      "Processing Record 44 of Set 2 | inuvik\n",
      "Processing Record 45 of Set 2 | mataura\n",
      "Processing Record 46 of Set 2 | guerrero negro\n",
      "Processing Record 47 of Set 2 | necochea\n",
      "Processing Record 48 of Set 2 | aksarka\n",
      "Processing Record 49 of Set 2 | caravelas\n",
      "Processing Record 0 of Set 3 | hithadhoo\n",
      "Processing Record 1 of Set 3 | presidencia roque saenz pena\n",
      "Processing Record 2 of Set 3 | marcona\n",
      "City not found. Skipping...\n",
      "Processing Record 3 of Set 3 | maldonado\n",
      "Processing Record 4 of Set 3 | beringovskiy\n",
      "Processing Record 5 of Set 3 | saskylakh\n",
      "Processing Record 6 of Set 3 | itaituba\n",
      "Processing Record 7 of Set 3 | kuminskiy\n",
      "Processing Record 8 of Set 3 | port alfred\n",
      "Processing Record 9 of Set 3 | matara\n",
      "Processing Record 10 of Set 3 | puerto narino\n",
      "Processing Record 11 of Set 3 | busselton\n",
      "Processing Record 12 of Set 3 | terrace bay\n",
      "Processing Record 13 of Set 3 | khatanga\n",
      "Processing Record 14 of Set 3 | arraial do cabo\n",
      "Processing Record 15 of Set 3 | riyadh\n",
      "Processing Record 16 of Set 3 | kirillov\n",
      "Processing Record 17 of Set 3 | ponta do sol\n",
      "Processing Record 18 of Set 3 | avarua\n",
      "Processing Record 19 of Set 3 | belushya guba\n",
      "City not found. Skipping...\n",
      "Processing Record 20 of Set 3 | kungurtug\n",
      "Processing Record 21 of Set 3 | boguchany\n",
      "Processing Record 22 of Set 3 | natal\n",
      "Processing Record 23 of Set 3 | heze\n",
      "Processing Record 24 of Set 3 | nikolskoye\n",
      "Processing Record 25 of Set 3 | safakulevo\n",
      "Processing Record 26 of Set 3 | listvyanskiy\n",
      "Processing Record 27 of Set 3 | airai\n",
      "Processing Record 28 of Set 3 | vostok\n",
      "Processing Record 29 of Set 3 | najran\n",
      "Processing Record 30 of Set 3 | samusu\n",
      "City not found. Skipping...\n",
      "Processing Record 31 of Set 3 | basco\n",
      "Processing Record 32 of Set 3 | santa engracia\n",
      "Processing Record 33 of Set 3 | okandja\n",
      "City not found. Skipping...\n",
      "Processing Record 34 of Set 3 | koslan\n",
      "Processing Record 35 of Set 3 | tuktoyaktuk\n",
      "Processing Record 36 of Set 3 | karatau\n",
      "Processing Record 37 of Set 3 | savelugu\n",
      "Processing Record 38 of Set 3 | alghero\n",
      "Processing Record 39 of Set 3 | puerto ayora\n",
      "Processing Record 40 of Set 3 | beloha\n",
      "Processing Record 41 of Set 3 | kuyanovo\n",
      "Processing Record 42 of Set 3 | pevek\n",
      "Processing Record 43 of Set 3 | poum\n",
      "Processing Record 44 of Set 3 | comodoro rivadavia\n",
      "Processing Record 45 of Set 3 | kandi\n",
      "Processing Record 46 of Set 3 | manta\n",
      "Processing Record 47 of Set 3 | salinopolis\n",
      "Processing Record 48 of Set 3 | ancud\n",
      "Processing Record 49 of Set 3 | bluff\n",
      "Processing Record 0 of Set 4 | san quintin\n",
      "Processing Record 1 of Set 4 | paita\n",
      "Processing Record 2 of Set 4 | nishio\n",
      "Processing Record 3 of Set 4 | hofn\n",
      "Processing Record 4 of Set 4 | tabas\n",
      "Processing Record 5 of Set 4 | deputatskiy\n",
      "Processing Record 6 of Set 4 | walvis bay\n",
      "Processing Record 7 of Set 4 | anadyr\n",
      "Processing Record 8 of Set 4 | severo-kurilsk\n",
      "Processing Record 9 of Set 4 | mehamn\n",
      "Processing Record 10 of Set 4 | yellowknife\n",
      "Processing Record 11 of Set 4 | klaksvik\n",
      "Processing Record 12 of Set 4 | altagracia de orituco\n",
      "Processing Record 13 of Set 4 | anzio\n",
      "Processing Record 14 of Set 4 | vung tau\n",
      "Processing Record 15 of Set 4 | szubin\n",
      "Processing Record 16 of Set 4 | hasaki\n",
      "Processing Record 17 of Set 4 | sao joao da barra\n",
      "Processing Record 18 of Set 4 | cabo san lucas\n",
      "Processing Record 19 of Set 4 | mlonggo\n",
      "Processing Record 20 of Set 4 | mys shmidta\n",
      "City not found. Skipping...\n",
      "Processing Record 21 of Set 4 | bethel\n",
      "Processing Record 22 of Set 4 | vaini\n",
      "Processing Record 23 of Set 4 | urcos\n",
      "Processing Record 24 of Set 4 | igrim\n",
      "Processing Record 25 of Set 4 | cayenne\n",
      "Processing Record 26 of Set 4 | bambous virieux\n",
      "Processing Record 27 of Set 4 | balakirevo\n",
      "Processing Record 28 of Set 4 | coihaique\n",
      "Processing Record 29 of Set 4 | panama city\n",
      "Processing Record 30 of Set 4 | laguna\n",
      "Processing Record 31 of Set 4 | karratha\n",
      "Processing Record 32 of Set 4 | newport\n",
      "Processing Record 33 of Set 4 | dawlatabad\n",
      "Processing Record 34 of Set 4 | kununurra\n",
      "Processing Record 35 of Set 4 | dekar\n",
      "Processing Record 36 of Set 4 | kyshtovka\n",
      "Processing Record 37 of Set 4 | kaitangata\n",
      "Processing Record 38 of Set 4 | cockburn town\n",
      "Processing Record 39 of Set 4 | luanda\n",
      "Processing Record 40 of Set 4 | pangnirtung\n",
      "Processing Record 41 of Set 4 | ust-omchug\n",
      "Processing Record 42 of Set 4 | ormara\n",
      "Processing Record 43 of Set 4 | puro\n",
      "Processing Record 44 of Set 4 | mao\n",
      "Processing Record 45 of Set 4 | malinyi\n",
      "Processing Record 46 of Set 4 | bako\n",
      "Processing Record 47 of Set 4 | castro\n",
      "Processing Record 48 of Set 4 | aleksandrovsk-sakhalinskiy\n",
      "Processing Record 49 of Set 4 | rio gallegos\n",
      "Processing Record 0 of Set 5 | suluq\n",
      "Processing Record 1 of Set 5 | barentsburg\n",
      "City not found. Skipping...\n",
      "Processing Record 2 of Set 5 | itoman\n",
      "Processing Record 3 of Set 5 | maloy\n",
      "Processing Record 4 of Set 5 | lebu\n",
      "Processing Record 5 of Set 5 | biak\n",
      "Processing Record 6 of Set 5 | dali\n",
      "Processing Record 7 of Set 5 | cairns\n",
      "Processing Record 8 of Set 5 | coroico\n",
      "Processing Record 9 of Set 5 | provideniya\n",
      "Processing Record 10 of Set 5 | dalmatovo\n",
      "Processing Record 11 of Set 5 | cap malheureux\n",
      "Processing Record 12 of Set 5 | doka\n",
      "Processing Record 13 of Set 5 | victoria\n",
      "Processing Record 14 of Set 5 | pisco\n",
      "Processing Record 15 of Set 5 | sciacca\n",
      "Processing Record 16 of Set 5 | yulara\n",
      "Processing Record 17 of Set 5 | isiro\n",
      "Processing Record 18 of Set 5 | wattegama\n",
      "Processing Record 19 of Set 5 | soyo\n",
      "Processing Record 20 of Set 5 | san patricio\n",
      "Processing Record 21 of Set 5 | asau\n",
      "Processing Record 22 of Set 5 | clyde river\n",
      "Processing Record 23 of Set 5 | vila franca do campo\n",
      "Processing Record 24 of Set 5 | portland\n",
      "Processing Record 25 of Set 5 | buala\n",
      "Processing Record 26 of Set 5 | coquimbo\n",
      "Processing Record 27 of Set 5 | bud\n",
      "Processing Record 28 of Set 5 | burnie\n",
      "Processing Record 29 of Set 5 | souillac\n",
      "Processing Record 30 of Set 5 | paamiut\n",
      "Processing Record 31 of Set 5 | chapais\n",
      "Processing Record 32 of Set 5 | banda aceh\n",
      "Processing Record 33 of Set 5 | vilyuysk\n",
      "Processing Record 34 of Set 5 | shimoda\n",
      "Processing Record 35 of Set 5 | paradwip\n",
      "City not found. Skipping...\n",
      "Processing Record 36 of Set 5 | vvedenskoye\n"
     ]
    }
   ],
   "source": [
    "# Set the API base URL\n",
    "url = \"http://api.openweathermap.org/data/2.5/weather?\"\n",
    "units = \"imperial\"\n",
    "\n",
    "query_url = f\"{url}appid={weather_api_key}&units={units}\"\n",
    "response_url = requests.get(query_url).json()\n",
    "\n",
    "\n",
    "# Define an empty list to fetch the weather data for each city\n",
    "city_data = []\n",
    "\n",
    "# Print to logger\n",
    "print(\"Beginning Data Retrieval     \")\n",
    "print(\"-----------------------------\")\n",
    "\n",
    "# Create counters\n",
    "record_count = 1\n",
    "set_count = 1\n",
    "\n",
    "# Loop through all the cities in our list to fetch weather data\n",
    "for i, city in enumerate(cities):\n",
    "        \n",
    "    # Group cities in sets of 50 for logging purposes\n",
    "    if (i % 50 == 0 and i >= 50):\n",
    "        set_count += 1\n",
    "        record_count = 0\n",
    "\n",
    "    # Create endpoint URL with each city\n",
    "    city_url = query_url + \"&q=\" + city\n",
    "    response = requests.get(city_url).json()\n",
    "    #pprint(response)\n",
    "    \n",
    "    # Log the url, record, and set numbers\n",
    "    print(\"Processing Record %s of Set %s | %s\" % (record_count, set_count, city))\n",
    "\n",
    "    # Add 1 to the record count\n",
    "    record_count += 1\n",
    "\n",
    "    # Run an API request for each of the cities\n",
    "    try:\n",
    "        # Parse the JSON and retrieve data\n",
    "\n",
    "        city_weather_response = requests.get(city_url).json() \n",
    "        #pprint(city_weather_response)\n",
    "    \n",
    "    \n",
    "        # Parse out latitude, longitude, max temp, humidity, cloudiness, wind speed, country, and date\n",
    "        city_lat = city_weather_response[\"coord\"][\"lat\"]\n",
    "        city_lng = city_weather_response[\"coord\"][\"lon\"]\n",
    "        city_max_temp = city_weather_response[\"main\"][\"temp_max\"]\n",
    "        city_humidity = city_weather_response[\"main\"][\"humidity\"]\n",
    "        city_clouds = city_weather_response[\"clouds\"][\"all\"]\n",
    "        city_wind = city_weather_response[\"wind\"][\"speed\"]\n",
    "        city_country = city_weather_response[\"sys\"][\"country\"]\n",
    "        city_date = city_weather_response[\"dt\"]\n",
    "\n",
    "        # Append the City information into city_data list\n",
    "        city_data.append({\"City\": city, \n",
    "                          \"Lat\": city_lat, \n",
    "                          \"Lng\": city_lng, \n",
    "                          \"Max Temp\": city_max_temp,\n",
    "                          \"Humidity\": city_humidity,\n",
    "                          \"Cloudiness\": city_clouds,\n",
    "                          \"Wind Speed\": city_wind,\n",
    "                          \"Country\": city_country,\n",
    "                          \"Date\": city_date})\n",
    "\n",
    "    # If an error is experienced, skip the city\n",
    "    except:\n",
    "        print(\"City not found. Skipping...\")\n",
    "        pass\n",
    "              \n",
    "# Indicate that Data Loading is complete \n",
    "print(\"-----------------------------\")\n",
    "print(\"Data Retrieval Complete      \")\n",
    "print(\"-----------------------------\")"
   ]
  },
  {
   "cell_type": "code",
   "execution_count": null,
   "metadata": {},
   "outputs": [
    {
     "data": {
      "text/plain": [
       "City          545\n",
       "Lat           545\n",
       "Lng           545\n",
       "Max Temp      545\n",
       "Humidity      545\n",
       "Cloudiness    545\n",
       "Wind Speed    545\n",
       "Country       545\n",
       "Date          545\n",
       "dtype: int64"
      ]
     },
     "execution_count": 8,
     "metadata": {},
     "output_type": "execute_result"
    }
   ],
   "source": [
    "# Convert the cities weather data into a Pandas DataFrame\n",
    "city_data_df = pd.DataFrame(city_data)\n",
    "\n",
    "# Show Record Count\n",
    "city_data_df.count()"
   ]
  },
  {
   "cell_type": "code",
   "execution_count": null,
   "metadata": {},
   "outputs": [
    {
     "data": {
      "text/html": [
       "<div>\n",
       "<style scoped>\n",
       "    .dataframe tbody tr th:only-of-type {\n",
       "        vertical-align: middle;\n",
       "    }\n",
       "\n",
       "    .dataframe tbody tr th {\n",
       "        vertical-align: top;\n",
       "    }\n",
       "\n",
       "    .dataframe thead th {\n",
       "        text-align: right;\n",
       "    }\n",
       "</style>\n",
       "<table border=\"1\" class=\"dataframe\">\n",
       "  <thead>\n",
       "    <tr style=\"text-align: right;\">\n",
       "      <th></th>\n",
       "      <th>City</th>\n",
       "      <th>Lat</th>\n",
       "      <th>Lng</th>\n",
       "      <th>Max Temp</th>\n",
       "      <th>Humidity</th>\n",
       "      <th>Cloudiness</th>\n",
       "      <th>Wind Speed</th>\n",
       "      <th>Country</th>\n",
       "      <th>Date</th>\n",
       "    </tr>\n",
       "  </thead>\n",
       "  <tbody>\n",
       "    <tr>\n",
       "      <th>0</th>\n",
       "      <td>albany</td>\n",
       "      <td>42.6001</td>\n",
       "      <td>-73.9662</td>\n",
       "      <td>39.94</td>\n",
       "      <td>76</td>\n",
       "      <td>92</td>\n",
       "      <td>1.01</td>\n",
       "      <td>US</td>\n",
       "      <td>1675710376</td>\n",
       "    </tr>\n",
       "    <tr>\n",
       "      <th>1</th>\n",
       "      <td>hermanus</td>\n",
       "      <td>-34.4187</td>\n",
       "      <td>19.2345</td>\n",
       "      <td>72.81</td>\n",
       "      <td>86</td>\n",
       "      <td>19</td>\n",
       "      <td>11.72</td>\n",
       "      <td>ZA</td>\n",
       "      <td>1675710716</td>\n",
       "    </tr>\n",
       "    <tr>\n",
       "      <th>2</th>\n",
       "      <td>wadi musa</td>\n",
       "      <td>30.3222</td>\n",
       "      <td>35.4793</td>\n",
       "      <td>37.26</td>\n",
       "      <td>89</td>\n",
       "      <td>88</td>\n",
       "      <td>24.32</td>\n",
       "      <td>JO</td>\n",
       "      <td>1675710781</td>\n",
       "    </tr>\n",
       "    <tr>\n",
       "      <th>3</th>\n",
       "      <td>vaini</td>\n",
       "      <td>-21.2000</td>\n",
       "      <td>-175.2000</td>\n",
       "      <td>78.73</td>\n",
       "      <td>73</td>\n",
       "      <td>100</td>\n",
       "      <td>2.35</td>\n",
       "      <td>TO</td>\n",
       "      <td>1675710710</td>\n",
       "    </tr>\n",
       "    <tr>\n",
       "      <th>4</th>\n",
       "      <td>lingao</td>\n",
       "      <td>19.9103</td>\n",
       "      <td>109.6859</td>\n",
       "      <td>69.66</td>\n",
       "      <td>92</td>\n",
       "      <td>3</td>\n",
       "      <td>11.36</td>\n",
       "      <td>CN</td>\n",
       "      <td>1675710784</td>\n",
       "    </tr>\n",
       "  </tbody>\n",
       "</table>\n",
       "</div>"
      ],
      "text/plain": [
       "        City      Lat       Lng  Max Temp  Humidity  Cloudiness  Wind Speed  \\\n",
       "0     albany  42.6001  -73.9662     39.94        76          92        1.01   \n",
       "1   hermanus -34.4187   19.2345     72.81        86          19       11.72   \n",
       "2  wadi musa  30.3222   35.4793     37.26        89          88       24.32   \n",
       "3      vaini -21.2000 -175.2000     78.73        73         100        2.35   \n",
       "4     lingao  19.9103  109.6859     69.66        92           3       11.36   \n",
       "\n",
       "  Country        Date  \n",
       "0      US  1675710376  \n",
       "1      ZA  1675710716  \n",
       "2      JO  1675710781  \n",
       "3      TO  1675710710  \n",
       "4      CN  1675710784  "
      ]
     },
     "execution_count": 5,
     "metadata": {},
     "output_type": "execute_result"
    }
   ],
   "source": [
    "# Display sample data\n",
    "city_data_df.head()"
   ]
  },
  {
   "cell_type": "code",
   "execution_count": null,
   "metadata": {},
   "outputs": [],
   "source": [
    "# Export the City_Data into a csv\n",
    "city_data_df.to_csv(\"../output_data/cities.csv\", index_label=\"City_ID\")"
   ]
  },
  {
   "cell_type": "code",
   "execution_count": null,
   "metadata": {},
   "outputs": [
    {
     "data": {
      "text/html": [
       "<div>\n",
       "<style scoped>\n",
       "    .dataframe tbody tr th:only-of-type {\n",
       "        vertical-align: middle;\n",
       "    }\n",
       "\n",
       "    .dataframe tbody tr th {\n",
       "        vertical-align: top;\n",
       "    }\n",
       "\n",
       "    .dataframe thead th {\n",
       "        text-align: right;\n",
       "    }\n",
       "</style>\n",
       "<table border=\"1\" class=\"dataframe\">\n",
       "  <thead>\n",
       "    <tr style=\"text-align: right;\">\n",
       "      <th></th>\n",
       "      <th>City</th>\n",
       "      <th>Lat</th>\n",
       "      <th>Lng</th>\n",
       "      <th>Max Temp</th>\n",
       "      <th>Humidity</th>\n",
       "      <th>Cloudiness</th>\n",
       "      <th>Wind Speed</th>\n",
       "      <th>Country</th>\n",
       "      <th>Date</th>\n",
       "    </tr>\n",
       "    <tr>\n",
       "      <th>City_ID</th>\n",
       "      <th></th>\n",
       "      <th></th>\n",
       "      <th></th>\n",
       "      <th></th>\n",
       "      <th></th>\n",
       "      <th></th>\n",
       "      <th></th>\n",
       "      <th></th>\n",
       "      <th></th>\n",
       "    </tr>\n",
       "  </thead>\n",
       "  <tbody>\n",
       "    <tr>\n",
       "      <th>0</th>\n",
       "      <td>albany</td>\n",
       "      <td>42.6001</td>\n",
       "      <td>-73.9662</td>\n",
       "      <td>39.94</td>\n",
       "      <td>76</td>\n",
       "      <td>92</td>\n",
       "      <td>1.01</td>\n",
       "      <td>US</td>\n",
       "      <td>1675710376</td>\n",
       "    </tr>\n",
       "    <tr>\n",
       "      <th>1</th>\n",
       "      <td>hermanus</td>\n",
       "      <td>-34.4187</td>\n",
       "      <td>19.2345</td>\n",
       "      <td>72.81</td>\n",
       "      <td>86</td>\n",
       "      <td>19</td>\n",
       "      <td>11.72</td>\n",
       "      <td>ZA</td>\n",
       "      <td>1675710716</td>\n",
       "    </tr>\n",
       "    <tr>\n",
       "      <th>2</th>\n",
       "      <td>wadi musa</td>\n",
       "      <td>30.3222</td>\n",
       "      <td>35.4793</td>\n",
       "      <td>37.26</td>\n",
       "      <td>89</td>\n",
       "      <td>88</td>\n",
       "      <td>24.32</td>\n",
       "      <td>JO</td>\n",
       "      <td>1675710781</td>\n",
       "    </tr>\n",
       "    <tr>\n",
       "      <th>3</th>\n",
       "      <td>vaini</td>\n",
       "      <td>-21.2000</td>\n",
       "      <td>-175.2000</td>\n",
       "      <td>78.73</td>\n",
       "      <td>73</td>\n",
       "      <td>100</td>\n",
       "      <td>2.35</td>\n",
       "      <td>TO</td>\n",
       "      <td>1675710710</td>\n",
       "    </tr>\n",
       "    <tr>\n",
       "      <th>4</th>\n",
       "      <td>lingao</td>\n",
       "      <td>19.9103</td>\n",
       "      <td>109.6859</td>\n",
       "      <td>69.66</td>\n",
       "      <td>92</td>\n",
       "      <td>3</td>\n",
       "      <td>11.36</td>\n",
       "      <td>CN</td>\n",
       "      <td>1675710784</td>\n",
       "    </tr>\n",
       "  </tbody>\n",
       "</table>\n",
       "</div>"
      ],
      "text/plain": [
       "              City      Lat       Lng  Max Temp  Humidity  Cloudiness  \\\n",
       "City_ID                                                                 \n",
       "0           albany  42.6001  -73.9662     39.94        76          92   \n",
       "1         hermanus -34.4187   19.2345     72.81        86          19   \n",
       "2        wadi musa  30.3222   35.4793     37.26        89          88   \n",
       "3            vaini -21.2000 -175.2000     78.73        73         100   \n",
       "4           lingao  19.9103  109.6859     69.66        92           3   \n",
       "\n",
       "         Wind Speed Country        Date  \n",
       "City_ID                                  \n",
       "0              1.01      US  1675710376  \n",
       "1             11.72      ZA  1675710716  \n",
       "2             24.32      JO  1675710781  \n",
       "3              2.35      TO  1675710710  \n",
       "4             11.36      CN  1675710784  "
      ]
     },
     "execution_count": 5,
     "metadata": {},
     "output_type": "execute_result"
    }
   ],
   "source": [
    "# Read saved data\n",
    "city_data_df = pd.read_csv(\"../output_data/cities.csv\", index_col=\"City_ID\")\n",
    "\n",
    "# Display sample data\n",
    "city_data_df.head()"
   ]
  },
  {
   "cell_type": "markdown",
   "metadata": {},
   "source": [
    "### Create the Scatter Plots Requested\n",
    "\n",
    "#### Latitude Vs. Temperature"
   ]
  },
  {
   "cell_type": "code",
   "execution_count": null,
   "metadata": {
    "tags": []
   },
   "outputs": [
    {
     "data": {
      "image/png": "[encoded data removed]",
      "text/plain": [
       "<Figure size 432x288 with 1 Axes>"
      ]
     },
     "metadata": {
      "needs_background": "light"
     },
     "output_type": "display_data"
    }
   ],
   "source": [
    "# Build scatter plot for latitude vs. temperature\n",
    "plt.scatter(city_data_df[\"Lat\"],city_data_df[\"Max Temp\"],marker=\"o\", facecolors=\"lightBlue\", edgecolors=\"black\")\n",
    "\n",
    "# Incorporate the other graph properties\n",
    "plt.title(\"City Max Latitude vs. Temperature(2022-10-18)\")\n",
    "plt.xlabel(\"Latitude\")\n",
    "plt.ylabel(\"Max Temperature (C)\")\n",
    "plt.grid(True)\n",
    "\n",
    "# Save the figure\n",
    "plt.savefig(\"../output_data/Fig1.png\")\n",
    "\n",
    "# Show plot\n",
    "plt.show()"
   ]
  },
  {
   "attachments": {},
   "cell_type": "markdown",
   "metadata": {},
   "source": [
    "**This plot suggests that temperatures gradually decreases for the Cities above the equator (from 0 to 90 degress latitude) compared to the cities below the equator. Locations belowo the equator tends to have hight max temperature."
   ]
  },
  {
   "cell_type": "markdown",
   "metadata": {},
   "source": [
    "#### Latitude Vs. Humidity"
   ]
  },
  {
   "cell_type": "code",
   "execution_count": null,
   "metadata": {},
   "outputs": [
    {
     "data": {
      "image/png": "[encoded data removed]",
      "text/plain": [
       "<Figure size 432x288 with 1 Axes>"
      ]
     },
     "metadata": {
      "needs_background": "light"
     },
     "output_type": "display_data"
    }
   ],
   "source": [
    "# Build the scatter plots for latitude vs. humidity\n",
    "plt.scatter(city_data_df[\"Lat\"],city_data_df[\"Humidity\"],marker=\"o\", facecolors=\"lightBlue\", edgecolors=\"black\")\n",
    "\n",
    "# Incorporate the other graph properties\n",
    "plt.title(\"City Max Latitude vs. Humidity(2022-10-18)\")\n",
    "plt.xlabel(\"Latitude\")\n",
    "plt.ylabel(\"Humidity %\")\n",
    "plt.grid(True)\n",
    "\n",
    "# Save the figure\n",
    "plt.savefig(\"../output_data/Fig2.png\")\n",
    "\n",
    "# Show plot\n",
    "plt.show()"
   ]
  },
  {
   "attachments": {},
   "cell_type": "markdown",
   "metadata": {},
   "source": [
    "**This plot indicates that there no significant relationship betweeen Latitude and Humidity"
   ]
  },
  {
   "cell_type": "markdown",
   "metadata": {},
   "source": [
    "#### Latitude Vs. Cloudiness"
   ]
  },
  {
   "cell_type": "code",
   "execution_count": null,
   "metadata": {},
   "outputs": [
    {
     "data": {
      "image/png": "[encoded data removed]",
      "text/plain": [
       "<Figure size 432x288 with 1 Axes>"
      ]
     },
     "metadata": {
      "needs_background": "light"
     },
     "output_type": "display_data"
    }
   ],
   "source": [
    "# Build the scatter plots for latitude vs. cloudiness\n",
    "plt.scatter(city_data_df[\"Lat\"],city_data_df[\"Cloudiness\"],marker=\"o\", facecolors=\"lightBlue\", edgecolors=\"black\")\n",
    "\n",
    "# Incorporate the other graph properties\n",
    "plt.title(\"City Max Latitude vs. Cloudiness(2022-10-18)\")\n",
    "plt.xlabel(\"Latitude\")\n",
    "plt.ylabel(\"Cloudiness (%)\")\n",
    "plt.grid(True)\n",
    "\n",
    "# Save the figure\n",
    "plt.savefig(\"../output_data/Fig3.png\")\n",
    "\n",
    "# Show plot\n",
    "plt.show()"
   ]
  },
  {
   "attachments": {},
   "cell_type": "markdown",
   "metadata": {},
   "source": [
    "**This plot shows that there no significant relationship betweeen Latitude and city's cloudiness"
   ]
  },
  {
   "cell_type": "markdown",
   "metadata": {},
   "source": [
    "#### Latitude vs. Wind Speed Plot"
   ]
  },
  {
   "cell_type": "code",
   "execution_count": null,
   "metadata": {},
   "outputs": [
    {
     "data": {
      "image/png": "[encoded data removed]",
      "text/plain": [
       "<Figure size 432x288 with 1 Axes>"
      ]
     },
     "metadata": {
      "needs_background": "light"
     },
     "output_type": "display_data"
    }
   ],
   "source": [
    "# Build the scatter plots for latitude vs. wind speed\n",
    "plt.scatter(city_data_df[\"Lat\"],city_data_df[\"Wind Speed\"],marker=\"o\", facecolors=\"lightBlue\", edgecolors=\"black\")\n",
    "\n",
    "# Incorporate the other graph properties\n",
    "plt.title(\"City Max Latitude vs. Wind Speed(2022-10-18)\")\n",
    "plt.xlabel(\"Latitude\")\n",
    "plt.ylabel(\"Wind Speed (m/s)\")\n",
    "plt.grid(True)\n",
    "\n",
    "# Save the figure\n",
    "plt.savefig(\"../output_data/Fig4.png\")\n",
    "\n",
    "# Show plot\n",
    "plt.show()"
   ]
  },
  {
   "attachments": {},
   "cell_type": "markdown",
   "metadata": {},
   "source": [
    "**This plot indicates that there no significant relationship betweeen Latitude and city's wind speed."
   ]
  },
  {
   "cell_type": "markdown",
   "metadata": {},
   "source": [
    "---\n",
    "\n",
    "## Requirement 2: Compute Linear Regression for Each Relationship\n"
   ]
  },
  {
   "cell_type": "code",
   "execution_count": null,
   "metadata": {},
   "outputs": [],
   "source": [
    "# Define a function to create Linear Regression plots\n",
    "regress = city_data_df[\"Lat\"] * slope + intercept"
   ]
  },
  {
   "cell_type": "code",
   "execution_count": null,
   "metadata": {},
   "outputs": [
    {
     "data": {
      "text/html": [
       "<div>\n",
       "<style scoped>\n",
       "    .dataframe tbody tr th:only-of-type {\n",
       "        vertical-align: middle;\n",
       "    }\n",
       "\n",
       "    .dataframe tbody tr th {\n",
       "        vertical-align: top;\n",
       "    }\n",
       "\n",
       "    .dataframe thead th {\n",
       "        text-align: right;\n",
       "    }\n",
       "</style>\n",
       "<table border=\"1\" class=\"dataframe\">\n",
       "  <thead>\n",
       "    <tr style=\"text-align: right;\">\n",
       "      <th></th>\n",
       "      <th>City</th>\n",
       "      <th>Lat</th>\n",
       "      <th>Lng</th>\n",
       "      <th>Max Temp</th>\n",
       "      <th>Humidity</th>\n",
       "      <th>Cloudiness</th>\n",
       "      <th>Wind Speed</th>\n",
       "      <th>Country</th>\n",
       "      <th>Date</th>\n",
       "    </tr>\n",
       "    <tr>\n",
       "      <th>City_ID</th>\n",
       "      <th></th>\n",
       "      <th></th>\n",
       "      <th></th>\n",
       "      <th></th>\n",
       "      <th></th>\n",
       "      <th></th>\n",
       "      <th></th>\n",
       "      <th></th>\n",
       "      <th></th>\n",
       "    </tr>\n",
       "  </thead>\n",
       "  <tbody>\n",
       "    <tr>\n",
       "      <th>0</th>\n",
       "      <td>albany</td>\n",
       "      <td>42.6001</td>\n",
       "      <td>-73.9662</td>\n",
       "      <td>39.94</td>\n",
       "      <td>76</td>\n",
       "      <td>92</td>\n",
       "      <td>1.01</td>\n",
       "      <td>US</td>\n",
       "      <td>1675710376</td>\n",
       "    </tr>\n",
       "    <tr>\n",
       "      <th>2</th>\n",
       "      <td>wadi musa</td>\n",
       "      <td>30.3222</td>\n",
       "      <td>35.4793</td>\n",
       "      <td>37.26</td>\n",
       "      <td>89</td>\n",
       "      <td>88</td>\n",
       "      <td>24.32</td>\n",
       "      <td>JO</td>\n",
       "      <td>1675710781</td>\n",
       "    </tr>\n",
       "    <tr>\n",
       "      <th>4</th>\n",
       "      <td>lingao</td>\n",
       "      <td>19.9103</td>\n",
       "      <td>109.6859</td>\n",
       "      <td>69.66</td>\n",
       "      <td>92</td>\n",
       "      <td>3</td>\n",
       "      <td>11.36</td>\n",
       "      <td>CN</td>\n",
       "      <td>1675710784</td>\n",
       "    </tr>\n",
       "    <tr>\n",
       "      <th>5</th>\n",
       "      <td>portland</td>\n",
       "      <td>45.5234</td>\n",
       "      <td>-122.6762</td>\n",
       "      <td>49.01</td>\n",
       "      <td>86</td>\n",
       "      <td>75</td>\n",
       "      <td>12.66</td>\n",
       "      <td>US</td>\n",
       "      <td>1675710492</td>\n",
       "    </tr>\n",
       "    <tr>\n",
       "      <th>6</th>\n",
       "      <td>barrow</td>\n",
       "      <td>71.2906</td>\n",
       "      <td>-156.7887</td>\n",
       "      <td>-9.38</td>\n",
       "      <td>77</td>\n",
       "      <td>100</td>\n",
       "      <td>0.00</td>\n",
       "      <td>US</td>\n",
       "      <td>1675710791</td>\n",
       "    </tr>\n",
       "  </tbody>\n",
       "</table>\n",
       "</div>"
      ],
      "text/plain": [
       "              City      Lat       Lng  Max Temp  Humidity  Cloudiness  \\\n",
       "City_ID                                                                 \n",
       "0           albany  42.6001  -73.9662     39.94        76          92   \n",
       "2        wadi musa  30.3222   35.4793     37.26        89          88   \n",
       "4           lingao  19.9103  109.6859     69.66        92           3   \n",
       "5         portland  45.5234 -122.6762     49.01        86          75   \n",
       "6           barrow  71.2906 -156.7887     -9.38        77         100   \n",
       "\n",
       "         Wind Speed Country        Date  \n",
       "City_ID                                  \n",
       "0              1.01      US  1675710376  \n",
       "2             24.32      JO  1675710781  \n",
       "4             11.36      CN  1675710784  \n",
       "5             12.66      US  1675710492  \n",
       "6              0.00      US  1675710791  "
      ]
     },
     "execution_count": 20,
     "metadata": {},
     "output_type": "execute_result"
    }
   ],
   "source": [
    "# Create a DataFrame with the Northern Hemisphere data (Latitude >= 0)\n",
    "northern_hemi_df = city_data_df.loc[city_data_df[\"Lat\"] >= 0, :]\n",
    "\n",
    "# Display sample data\n",
    "northern_hemi_df.head()"
   ]
  },
  {
   "cell_type": "code",
   "execution_count": null,
   "metadata": {},
   "outputs": [
    {
     "data": {
      "text/html": [
       "<div>\n",
       "<style scoped>\n",
       "    .dataframe tbody tr th:only-of-type {\n",
       "        vertical-align: middle;\n",
       "    }\n",
       "\n",
       "    .dataframe tbody tr th {\n",
       "        vertical-align: top;\n",
       "    }\n",
       "\n",
       "    .dataframe thead th {\n",
       "        text-align: right;\n",
       "    }\n",
       "</style>\n",
       "<table border=\"1\" class=\"dataframe\">\n",
       "  <thead>\n",
       "    <tr style=\"text-align: right;\">\n",
       "      <th></th>\n",
       "      <th>City</th>\n",
       "      <th>Lat</th>\n",
       "      <th>Lng</th>\n",
       "      <th>Max Temp</th>\n",
       "      <th>Humidity</th>\n",
       "      <th>Cloudiness</th>\n",
       "      <th>Wind Speed</th>\n",
       "      <th>Country</th>\n",
       "      <th>Date</th>\n",
       "    </tr>\n",
       "    <tr>\n",
       "      <th>City_ID</th>\n",
       "      <th></th>\n",
       "      <th></th>\n",
       "      <th></th>\n",
       "      <th></th>\n",
       "      <th></th>\n",
       "      <th></th>\n",
       "      <th></th>\n",
       "      <th></th>\n",
       "      <th></th>\n",
       "    </tr>\n",
       "  </thead>\n",
       "  <tbody>\n",
       "    <tr>\n",
       "      <th>1</th>\n",
       "      <td>hermanus</td>\n",
       "      <td>-34.4187</td>\n",
       "      <td>19.2345</td>\n",
       "      <td>72.81</td>\n",
       "      <td>86</td>\n",
       "      <td>19</td>\n",
       "      <td>11.72</td>\n",
       "      <td>ZA</td>\n",
       "      <td>1675710716</td>\n",
       "    </tr>\n",
       "    <tr>\n",
       "      <th>3</th>\n",
       "      <td>vaini</td>\n",
       "      <td>-21.2000</td>\n",
       "      <td>-175.2000</td>\n",
       "      <td>78.73</td>\n",
       "      <td>73</td>\n",
       "      <td>100</td>\n",
       "      <td>2.35</td>\n",
       "      <td>TO</td>\n",
       "      <td>1675710710</td>\n",
       "    </tr>\n",
       "    <tr>\n",
       "      <th>8</th>\n",
       "      <td>mataura</td>\n",
       "      <td>-46.1927</td>\n",
       "      <td>168.8643</td>\n",
       "      <td>60.35</td>\n",
       "      <td>57</td>\n",
       "      <td>77</td>\n",
       "      <td>9.17</td>\n",
       "      <td>NZ</td>\n",
       "      <td>1675710657</td>\n",
       "    </tr>\n",
       "    <tr>\n",
       "      <th>9</th>\n",
       "      <td>ancud</td>\n",
       "      <td>-41.8697</td>\n",
       "      <td>-73.8203</td>\n",
       "      <td>62.51</td>\n",
       "      <td>65</td>\n",
       "      <td>0</td>\n",
       "      <td>8.03</td>\n",
       "      <td>CL</td>\n",
       "      <td>1675710798</td>\n",
       "    </tr>\n",
       "    <tr>\n",
       "      <th>11</th>\n",
       "      <td>tolaga bay</td>\n",
       "      <td>-38.3667</td>\n",
       "      <td>178.3000</td>\n",
       "      <td>65.57</td>\n",
       "      <td>81</td>\n",
       "      <td>6</td>\n",
       "      <td>3.09</td>\n",
       "      <td>NZ</td>\n",
       "      <td>1675710576</td>\n",
       "    </tr>\n",
       "  </tbody>\n",
       "</table>\n",
       "</div>"
      ],
      "text/plain": [
       "               City      Lat       Lng  Max Temp  Humidity  Cloudiness  \\\n",
       "City_ID                                                                  \n",
       "1          hermanus -34.4187   19.2345     72.81        86          19   \n",
       "3             vaini -21.2000 -175.2000     78.73        73         100   \n",
       "8           mataura -46.1927  168.8643     60.35        57          77   \n",
       "9             ancud -41.8697  -73.8203     62.51        65           0   \n",
       "11       tolaga bay -38.3667  178.3000     65.57        81           6   \n",
       "\n",
       "         Wind Speed Country        Date  \n",
       "City_ID                                  \n",
       "1             11.72      ZA  1675710716  \n",
       "3              2.35      TO  1675710710  \n",
       "8              9.17      NZ  1675710657  \n",
       "9              8.03      CL  1675710798  \n",
       "11             3.09      NZ  1675710576  "
      ]
     },
     "execution_count": 16,
     "metadata": {},
     "output_type": "execute_result"
    }
   ],
   "source": [
    "# Create a DataFrame with the Southern Hemisphere data (Latitude < 0)\n",
    "southern_hemi_df = city_data_df.loc[city_data_df[\"Lat\"] < 0, :]\n",
    "\n",
    "# Display sample data\n",
    "southern_hemi_df.head()"
   ]
  },
  {
   "cell_type": "markdown",
   "metadata": {},
   "source": [
    "###  Temperature vs. Latitude Linear Regression Plot"
   ]
  },
  {
   "cell_type": "code",
   "execution_count": null,
   "metadata": {},
   "outputs": [
    {
     "name": "stdout",
     "output_type": "stream",
     "text": [
      "The r-squared is: 0.738563157904652\n"
     ]
    },
    {
     "data": {
      "image/png": "[encoded data removed]",
      "text/plain": [
       "<Figure size 432x288 with 1 Axes>"
      ]
     },
     "metadata": {
      "needs_background": "light"
     },
     "output_type": "display_data"
    }
   ],
   "source": [
    "# Linear regression on Northern Hemisphere\n",
    "x_northern_values = northern_hemi_df[\"Lat\"]\n",
    "y_northern_values = northern_hemi_df[\"Max Temp\"]\n",
    "\n",
    "# Add the linear regression equation and line to plot\n",
    "\n",
    "(slope, intercept, rvalue, pvalue, stderr) = linregress(x_northern_values, y_northern_values)\n",
    "\n",
    "regress_northern_values = x_northern_values * slope + intercept\n",
    "line_eq = \"y = \" + str(round(slope,2)) + \"x + \" + str(round(intercept,2))\n",
    "plt.scatter(x_northern_values,y_northern_values)\n",
    "plt.plot(x_northern_values,regress_northern_values,\"r-\")\n",
    "plt.annotate(line_eq,(5,-10),fontsize=15,color=\"red\")\n",
    "plt.xlabel('Latitude')\n",
    "plt.ylabel('Max Temp')\n",
    "print(f\"The r-squared is: {rvalue**2}\")\n",
    "\n",
    "# Save the figure\n",
    "plt.savefig(\"../output_data/Fig5.png\")\n",
    "\n",
    "plt.show()"
   ]
  },
  {
   "attachments": {},
   "cell_type": "markdown",
   "metadata": {},
   "source": [
    "**As cities in the northern hemisphere moves farther away from the equator, temperatures drop.\n",
    "This proves a strong negative correlation between latitude and tempuratures in the northern hemisphere.\n",
    "The r-squred : 0.738563157904652 can explaing approximately 74% of the variability in the data"
   ]
  },
  {
   "cell_type": "code",
   "execution_count": null,
   "metadata": {},
   "outputs": [
    {
     "name": "stdout",
     "output_type": "stream",
     "text": [
      "The r-squared is: 0.22072603316225178\n"
     ]
    },
    {
     "data": {
      "image/png": "[encoded data removed]",
      "text/plain": [
       "<Figure size 432x288 with 1 Axes>"
      ]
     },
     "metadata": {
      "needs_background": "light"
     },
     "output_type": "display_data"
    }
   ],
   "source": [
    "# Linear regression on Southern Hemisphere\n",
    "x_southern_values = southern_hemi_df[\"Lat\"]\n",
    "y_southern_values = southern_hemi_df[\"Max Temp\"]\n",
    "\n",
    "# Add the linear regression equation and line to plot\n",
    "\n",
    "(slope, intercept, rvalue, pvalue, stderr) = linregress(x_southern_values, y_southern_values)\n",
    "\n",
    "regress_southern_values = x_southern_values * slope + intercept\n",
    "line_eq = \"y = \" + str(round(slope,2)) + \"x + \" + str(round(intercept,2))\n",
    "plt.scatter(x_southern_values,y_southern_values)\n",
    "plt.plot(x_southern_values,regress_southern_values,\"r-\")\n",
    "plt.annotate(line_eq,(-55,99),fontsize=15,color=\"red\")\n",
    "plt.xlabel('Latitude')\n",
    "plt.ylabel('Max Temp')\n",
    "print(f\"The r-squared is: {rvalue**2}\")\n",
    "\n",
    "# Save the figure\n",
    "plt.savefig(\"../output_data/Fig6.png\")\n",
    "\n",
    "plt.show()"
   ]
  },
  {
   "attachments": {},
   "cell_type": "markdown",
   "metadata": {},
   "source": [
    "**As some cities in the southern hemisphere move closer to the equator, temperatures rises.\n",
    "This proves a slight positive correlation between latitude and temperature in the southern hemisphere.\n",
    "The regression line only explains 22% of the variability in the data."
   ]
  },
  {
   "attachments": {},
   "cell_type": "markdown",
   "metadata": {},
   "source": [
    "# "
   ]
  },
  {
   "cell_type": "markdown",
   "metadata": {},
   "source": [
    "### Humidity vs. Latitude Linear Regression Plot"
   ]
  },
  {
   "cell_type": "code",
   "execution_count": null,
   "metadata": {},
   "outputs": [
    {
     "name": "stdout",
     "output_type": "stream",
     "text": [
      "The r-squared is: 0.19336238299408703\n"
     ]
    },
    {
     "data": {
      "image/png": "[encoded data removed]",
      "text/plain": [
       "<Figure size 432x288 with 1 Axes>"
      ]
     },
     "metadata": {
      "needs_background": "light"
     },
     "output_type": "display_data"
    }
   ],
   "source": [
    "# Northern Hemisphere\n",
    "\n",
    "x_northern_values = northern_hemi_df[\"Lat\"]\n",
    "y_northern_values = northern_hemi_df[\"Humidity\"]\n",
    "\n",
    "# Add the linear regression equation and line to plot\n",
    "\n",
    "(slope, intercept, rvalue, pvalue, stderr) = linregress(x_northern_values, y_northern_values)\n",
    "\n",
    "regress_northern_values = x_northern_values * slope + intercept\n",
    "line_eq = \"y = \" + str(round(slope,2)) + \"x + \" + str(round(intercept,2))\n",
    "plt.scatter(x_northern_values,y_northern_values)\n",
    "plt.plot(x_northern_values,regress_northern_values,\"r-\")\n",
    "plt.annotate(line_eq,(40,10),fontsize=15,color=\"red\")\n",
    "plt.xlabel('Latitude')\n",
    "plt.ylabel('Humidity')\n",
    "print(f\"The r-squared is: {rvalue**2}\")\n",
    "\n",
    "# Save the figure\n",
    "plt.savefig(\"../output_data/Fig7.png\")\n",
    "\n",
    "plt.show()"
   ]
  },
  {
   "attachments": {},
   "cell_type": "markdown",
   "metadata": {},
   "source": [
    "**The regression line captures 19% of the variability in the data. The regression does not display any significant correlation between the factors"
   ]
  },
  {
   "cell_type": "code",
   "execution_count": null,
   "metadata": {},
   "outputs": [
    {
     "name": "stdout",
     "output_type": "stream",
     "text": [
      "The r-squared is: 0.11852810722719474\n"
     ]
    },
    {
     "data": {
      "image/png": "[encoded data removed]",
      "text/plain": [
       "<Figure size 432x288 with 1 Axes>"
      ]
     },
     "metadata": {
      "needs_background": "light"
     },
     "output_type": "display_data"
    }
   ],
   "source": [
    "# Southern Hemisphere\n",
    "\n",
    "x_southern_values = southern_hemi_df[\"Lat\"]\n",
    "y_southern_values = southern_hemi_df[\"Humidity\"]\n",
    "\n",
    "# Add the linear regression equation and line to plot\n",
    "\n",
    "(slope, intercept, rvalue, pvalue, stderr) = linregress(x_southern_values, y_southern_values)\n",
    "\n",
    "regress_southern_values = x_southern_values * slope + intercept\n",
    "line_eq = \"y = \" + str(round(slope,2)) + \"x + \" + str(round(intercept,2))\n",
    "plt.scatter(x_southern_values,y_southern_values)\n",
    "plt.plot(x_southern_values,regress_southern_values,\"r-\")\n",
    "plt.annotate(line_eq,(-25,15),fontsize=15,color=\"red\")\n",
    "plt.xlabel('Latitude')\n",
    "plt.ylabel('Humidity')\n",
    "print(f\"The r-squared is: {rvalue**2}\")\n",
    "\n",
    "# Save the figure\n",
    "plt.savefig(\"../output_data/Fig8.png\")\n",
    "\n",
    "plt.show()"
   ]
  },
  {
   "attachments": {},
   "cell_type": "markdown",
   "metadata": {},
   "source": [
    "**The regression line does not capture most of the variability in the data set and doesn't show much of a correlation between data sets. "
   ]
  },
  {
   "cell_type": "markdown",
   "metadata": {},
   "source": [
    "### Cloudiness vs. Latitude Linear Regression Plot"
   ]
  },
  {
   "cell_type": "code",
   "execution_count": null,
   "metadata": {},
   "outputs": [
    {
     "name": "stdout",
     "output_type": "stream",
     "text": [
      "The r-squared is: 0.09744303287730718\n"
     ]
    },
    {
     "data": {
      "image/png": "[encoded data removed]",
      "text/plain": [
       "<Figure size 432x288 with 1 Axes>"
      ]
     },
     "metadata": {
      "needs_background": "light"
     },
     "output_type": "display_data"
    }
   ],
   "source": [
    "# Northern Hemisphere\n",
    "\n",
    "x_northern_values = northern_hemi_df[\"Lat\"]\n",
    "y_northern_values = northern_hemi_df[\"Cloudiness\"]\n",
    "\n",
    "# Add the linear regression equation and line to plot\n",
    "\n",
    "(slope, intercept, rvalue, pvalue, stderr) = linregress(x_northern_values, y_northern_values)\n",
    "\n",
    "regress_northern_values = x_northern_values * slope + intercept\n",
    "line_eq = \"y = \" + str(round(slope,2)) + \"x + \" + str(round(intercept,2))\n",
    "plt.scatter(x_northern_values,y_northern_values)\n",
    "plt.plot(x_northern_values,regress_northern_values,\"r-\")\n",
    "plt.annotate(line_eq,(40,45),fontsize=15,color=\"red\")\n",
    "plt.xlabel('Latitude')\n",
    "plt.ylabel('Cloudiness')\n",
    "print(f\"The r-squared is: {rvalue**2}\")\n",
    "\n",
    "# Save the figure\n",
    "plt.savefig(\"../output_data/Fig9.png\")\n",
    "\n",
    "plt.show()"
   ]
  },
  {
   "attachments": {},
   "cell_type": "markdown",
   "metadata": {},
   "source": [
    "**The regression line only captures 10% of the variability in the data set and doesn't show much of a correlation between data sets. "
   ]
  },
  {
   "cell_type": "code",
   "execution_count": null,
   "metadata": {},
   "outputs": [
    {
     "name": "stdout",
     "output_type": "stream",
     "text": [
      "The r-squared is: 0.14650828629584114\n"
     ]
    },
    {
     "data": {
      "image/png": "[encoded data removed]",
      "text/plain": [
       "<Figure size 432x288 with 1 Axes>"
      ]
     },
     "metadata": {
      "needs_background": "light"
     },
     "output_type": "display_data"
    }
   ],
   "source": [
    "# Southern Hemisphere\n",
    "x_southern_values = southern_hemi_df[\"Lat\"]\n",
    "y_southern_values = southern_hemi_df[\"Cloudiness\"]\n",
    "\n",
    "# Add the linear regression equation and line to plot\n",
    "\n",
    "(slope, intercept, rvalue, pvalue, stderr) = linregress(x_southern_values, y_southern_values)\n",
    "\n",
    "regress_southern_values = x_southern_values * slope + intercept\n",
    "line_eq = \"y = \" + str(round(slope,2)) + \"x + \" + str(round(intercept,2))\n",
    "plt.scatter(x_southern_values,y_southern_values)\n",
    "plt.plot(x_southern_values,regress_southern_values,\"r-\")\n",
    "plt.annotate(line_eq,(-56,60),fontsize=15,color=\"red\")\n",
    "plt.xlabel('Latitude')\n",
    "plt.ylabel('Cloudiness')\n",
    "print(f\"The r-squared is: {rvalue**2}\")\n",
    "\n",
    "# Save the figure\n",
    "plt.savefig(\"../output_data/Fig10.png\")\n",
    "\n",
    "plt.show()"
   ]
  },
  {
   "attachments": {},
   "cell_type": "markdown",
   "metadata": {},
   "source": [
    "**The regression line does not capture most of the variability in the data set and doesn't show much of a correlation between data sets. "
   ]
  },
  {
   "cell_type": "markdown",
   "metadata": {},
   "source": [
    "### Wind Speed vs. Latitude Linear Regression Plot"
   ]
  },
  {
   "cell_type": "code",
   "execution_count": null,
   "metadata": {},
   "outputs": [
    {
     "name": "stdout",
     "output_type": "stream",
     "text": [
      "The r-squared is: 0.0017276819899557708\n"
     ]
    },
    {
     "data": {
      "image/png": "[encoded data removed]",
      "text/plain": [
       "<Figure size 432x288 with 1 Axes>"
      ]
     },
     "metadata": {
      "needs_background": "light"
     },
     "output_type": "display_data"
    }
   ],
   "source": [
    "# Northern Hemisphere\n",
    "\n",
    "x_northern_values = northern_hemi_df[\"Lat\"]\n",
    "y_northern_values = northern_hemi_df[\"Wind Speed\"]\n",
    "\n",
    "# Add the linear regression equation and line to plot\n",
    "\n",
    "(slope, intercept, rvalue, pvalue, stderr) = linregress(x_northern_values, y_northern_values)\n",
    "\n",
    "regress_northern_values = x_northern_values * slope + intercept\n",
    "line_eq = \"y = \" + str(round(slope,2)) + \"x + \" + str(round(intercept,2))\n",
    "plt.scatter(x_northern_values,y_northern_values)\n",
    "plt.plot(x_northern_values,regress_northern_values,\"r-\")\n",
    "plt.annotate(line_eq,(5,35),fontsize=15,color=\"red\")\n",
    "plt.xlabel('Latitude')\n",
    "plt.ylabel('Wind Speed')\n",
    "print(f\"The r-squared is: {rvalue**2}\")\n",
    "\n",
    "# Save the figure\n",
    "plt.savefig(\"../output_data/Fig11.png\")\n",
    "\n",
    "plt.show()"
   ]
  },
  {
   "attachments": {},
   "cell_type": "markdown",
   "metadata": {},
   "source": [
    "**The regression line does not capture most of the variability in the data set and doesn't show much of a correlation between data sets. There is no significant relationship between Wind Speed and Latitude."
   ]
  },
  {
   "cell_type": "code",
   "execution_count": null,
   "metadata": {},
   "outputs": [
    {
     "name": "stdout",
     "output_type": "stream",
     "text": [
      "The r-squared is: 0.04426132231124988\n"
     ]
    },
    {
     "data": {
      "image/png": "[encoded data removed]",
      "text/plain": [
       "<Figure size 432x288 with 1 Axes>"
      ]
     },
     "metadata": {
      "needs_background": "light"
     },
     "output_type": "display_data"
    }
   ],
   "source": [
    "# Southern Hemisphere\n",
    "\n",
    "x_southern_values = southern_hemi_df[\"Lat\"]\n",
    "y_southern_values = southern_hemi_df[\"Wind Speed\"]\n",
    "\n",
    "# Add the linear regression equation and line to plot\n",
    "\n",
    "(slope, intercept, rvalue, pvalue, stderr) = linregress(x_southern_values, y_southern_values)\n",
    "\n",
    "regress_southern_values = x_southern_values * slope + intercept\n",
    "line_eq = \"y = \" + str(round(slope,2)) + \"x + \" + str(round(intercept,2))\n",
    "plt.scatter(x_southern_values,y_southern_values)\n",
    "plt.plot(x_southern_values,regress_southern_values,\"r-\")\n",
    "plt.annotate(line_eq,(-50,20),fontsize=15,color=\"red\")\n",
    "plt.xlabel('Latitude')\n",
    "plt.ylabel('Wind Speed')\n",
    "print(f\"The r-squared is: {rvalue**2}\")\n",
    "\n",
    "# Save the figure\n",
    "plt.savefig(\"../output_data/Fig12.png\")\n",
    "\n",
    "plt.show()"
   ]
  },
  {
   "attachments": {},
   "cell_type": "markdown",
   "metadata": {},
   "source": [
    "**The regression line captures only 4% of the variability in the data set and doesn't show much of a correlation between data sets. There is no significant relationship between southern hemisphere latitude and wind speed."
   ]
  },
  {
   "cell_type": "code",
   "execution_count": null,
   "metadata": {},
   "outputs": [],
   "source": []
  }
 ],
 "metadata": {
  "anaconda-cloud": {},
  "kernel_info": {
   "name": "python3"
  },
  "kernelspec": {
   "display_name": "PythonData",
   "language": "python",
   "name": "pythondata"
  },
  "language_info": {
   "codemirror_mode": {
    "name": "ipython",
    "version": 3
   },
   "file_extension": ".py",
   "mimetype": "text/x-python",
   "name": "python",
   "nbconvert_exporter": "python",
   "pygments_lexer": "ipython3",
   "version": "3.7.7"
  },
  "latex_envs": {
   "LaTeX_envs_menu_present": true,
   "autoclose": false,
   "autocomplete": true,
   "bibliofile": "biblio.bib",
   "cite_by": "apalike",
   "current_citInitial": 1,
   "eqLabelWithNumbers": true,
   "eqNumInitial": 1,
   "hotkeys": {
    "equation": "Ctrl-E",
    "itemize": "Ctrl-I"
   },
   "labels_anchors": false,
   "latex_user_defs": false,
   "report_style_numbering": false,
   "user_envs_cfg": false
  },
  "nteract": {
   "version": "0.12.3"
  },
  "vscode": {
   "interpreter": {
    "hash": "aee8b7b246df8f9039afb4144a1f6fd8d2ca17a180786b69acc140d282b71a49"
   }
  }
 },
 "nbformat": 4,
 "nbformat_minor": 4
}
